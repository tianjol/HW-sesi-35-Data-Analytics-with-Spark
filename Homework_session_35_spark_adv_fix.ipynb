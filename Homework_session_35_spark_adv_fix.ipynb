{
  "nbformat": 4,
  "nbformat_minor": 0,
  "metadata": {
    "colab": {
      "name": "Homework session 35 spark adv_fix.ipynb",
      "provenance": []
    },
    "kernelspec": {
      "name": "python3",
      "display_name": "Python 3"
    },
    "language_info": {
      "name": "python"
    }
  },
  "cells": [
    {
      "cell_type": "markdown",
      "source": [
        "## Install Pyspark"
      ],
      "metadata": {
        "id": "6hKvSuXuSr-l"
      }
    },
    {
      "cell_type": "code",
      "execution_count": 1,
      "metadata": {
        "colab": {
          "base_uri": "https://localhost:8080/"
        },
        "id": "jX9lQjFiSJPQ",
        "outputId": "b545d2d3-fed5-4caa-c23b-84c413856752"
      },
      "outputs": [
        {
          "output_type": "stream",
          "name": "stdout",
          "text": [
            "\r0% [Working]\r            \rHit:1 http://archive.ubuntu.com/ubuntu bionic InRelease\n",
            "\r0% [Waiting for headers] [Connecting to security.ubuntu.com (185.125.190.39)] [\r                                                                               \rGet:2 http://archive.ubuntu.com/ubuntu bionic-updates InRelease [88.7 kB]\n",
            "\r                                                                               \rGet:3 http://archive.ubuntu.com/ubuntu bionic-backports InRelease [74.6 kB]\n",
            "\r                                                                               \rGet:4 https://cloud.r-project.org/bin/linux/ubuntu bionic-cran40/ InRelease [3,626 B]\n",
            "\r                                                                               \rIgn:5 https://developer.download.nvidia.com/compute/cuda/repos/ubuntu1804/x86_64  InRelease\n",
            "\r                                                                               \r0% [Waiting for headers] [Waiting for headers] [Waiting for headers]\r0% [1 InRelease gpgv 242 kB] [Waiting for headers] [Waiting for headers] [Waiti\r                                                                               \rGet:6 http://security.ubuntu.com/ubuntu bionic-security InRelease [88.7 kB]\n",
            "Get:7 http://ppa.launchpad.net/c2d4u.team/c2d4u4.0+/ubuntu bionic InRelease [15.9 kB]\n",
            "Ign:8 https://developer.download.nvidia.com/compute/machine-learning/repos/ubuntu1804/x86_64  InRelease\n",
            "Get:9 https://developer.download.nvidia.com/compute/cuda/repos/ubuntu1804/x86_64  Release [696 B]\n",
            "Hit:10 https://developer.download.nvidia.com/compute/machine-learning/repos/ubuntu1804/x86_64  Release\n",
            "Get:11 https://developer.download.nvidia.com/compute/cuda/repos/ubuntu1804/x86_64  Release.gpg [836 B]\n",
            "Hit:12 http://ppa.launchpad.net/cran/libgit2/ubuntu bionic InRelease\n",
            "Get:13 http://ppa.launchpad.net/deadsnakes/ppa/ubuntu bionic InRelease [15.9 kB]\n",
            "Get:14 http://archive.ubuntu.com/ubuntu bionic-updates/main amd64 Packages [3,132 kB]\n",
            "Get:15 http://ppa.launchpad.net/graphics-drivers/ppa/ubuntu bionic InRelease [21.3 kB]\n",
            "Get:16 http://archive.ubuntu.com/ubuntu bionic-updates/restricted amd64 Packages [918 kB]\n",
            "Get:17 http://archive.ubuntu.com/ubuntu bionic-updates/multiverse amd64 Packages [29.8 kB]\n",
            "Get:18 http://archive.ubuntu.com/ubuntu bionic-updates/universe amd64 Packages [2,267 kB]\n",
            "Get:19 http://archive.ubuntu.com/ubuntu bionic-backports/universe amd64 Packages [12.9 kB]\n",
            "Get:20 http://archive.ubuntu.com/ubuntu bionic-backports/main amd64 Packages [12.2 kB]\n",
            "Get:21 https://cloud.r-project.org/bin/linux/ubuntu bionic-cran40/ Packages [82.3 kB]\n",
            "Get:22 http://ppa.launchpad.net/c2d4u.team/c2d4u4.0+/ubuntu bionic/main Sources [1,831 kB]\n",
            "Get:24 https://developer.download.nvidia.com/compute/cuda/repos/ubuntu1804/x86_64  Packages [951 kB]\n",
            "Get:25 http://security.ubuntu.com/ubuntu bionic-security/main amd64 Packages [2,693 kB]\n",
            "Get:26 http://ppa.launchpad.net/c2d4u.team/c2d4u4.0+/ubuntu bionic/main amd64 Packages [938 kB]\n",
            "Get:27 http://security.ubuntu.com/ubuntu bionic-security/restricted amd64 Packages [884 kB]\n",
            "Get:28 http://security.ubuntu.com/ubuntu bionic-security/universe amd64 Packages [1,489 kB]\n",
            "Get:29 http://ppa.launchpad.net/deadsnakes/ppa/ubuntu bionic/main amd64 Packages [45.3 kB]\n",
            "Get:30 http://ppa.launchpad.net/graphics-drivers/ppa/ubuntu bionic/main amd64 Packages [44.3 kB]\n",
            "Fetched 15.6 MB in 4s (3,770 kB/s)\n",
            "Reading package lists... Done\n"
          ]
        }
      ],
      "source": [
        "!apt-get update\n",
        "!apt-get install openjdk-8-jdk-headless -qq > /dev/null\n",
        "!wget -q https://archive.apache.org/dist/spark/spark-2.4.4/spark-2.4.4-bin-hadoop2.7.tgz\n",
        "!tar xf spark-2.4.4-bin-hadoop2.7.tgz\n",
        "!pip install -q findspark"
      ]
    },
    {
      "cell_type": "markdown",
      "source": [
        "## Set Pyspark Environment"
      ],
      "metadata": {
        "id": "ZZ-phVuUSxjZ"
      }
    },
    {
      "cell_type": "code",
      "source": [
        "import os\n",
        "os.environ[\"JAVA_HOME\"] = \"/usr/lib/jvm/java-8-openjdk-amd64\"\n",
        "os.environ[\"SPARK_HOME\"] = \"/content/spark-2.4.4-bin-hadoop2.7\""
      ],
      "metadata": {
        "id": "VuTLQ_n9SlzT"
      },
      "execution_count": 2,
      "outputs": []
    },
    {
      "cell_type": "markdown",
      "source": [
        "## Import Pyspark Package"
      ],
      "metadata": {
        "id": "lYvFEB7LS4Qr"
      }
    },
    {
      "cell_type": "code",
      "source": [
        "import findspark\n",
        "findspark.init()\n",
        "from pyspark.sql import SparkSession\n",
        "from pyspark.sql.functions import *\n",
        "from pyspark.sql.types import *"
      ],
      "metadata": {
        "id": "ebwHBRy_S6Ou"
      },
      "execution_count": 3,
      "outputs": []
    },
    {
      "cell_type": "markdown",
      "source": [
        "## Upload File"
      ],
      "metadata": {
        "id": "wDcXqZL6S9Za"
      }
    },
    {
      "cell_type": "code",
      "source": [
        "from google.colab import files\n",
        "uploaded = files.upload()"
      ],
      "metadata": {
        "colab": {
          "resources": {
            "http://localhost:8080/nbextensions/google.colab/files.js": {
              "data": "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",
              "ok": true,
              "headers": [
                [
                  "content-type",
                  "application/javascript"
                ]
              ],
              "status": 200,
              "status_text": ""
            }
          },
          "base_uri": "https://localhost:8080/",
          "height": 73
        },
        "id": "RvTLutVuS79b",
        "outputId": "fda75c6f-7ba0-42da-e811-5c2641b35a28"
      },
      "execution_count": 4,
      "outputs": [
        {
          "output_type": "display_data",
          "data": {
            "text/plain": [
              "<IPython.core.display.HTML object>"
            ],
            "text/html": [
              "\n",
              "     <input type=\"file\" id=\"files-859f7dda-0d84-40b0-862e-59822968106d\" name=\"files[]\" multiple disabled\n",
              "        style=\"border:none\" />\n",
              "     <output id=\"result-859f7dda-0d84-40b0-862e-59822968106d\">\n",
              "      Upload widget is only available when the cell has been executed in the\n",
              "      current browser session. Please rerun this cell to enable.\n",
              "      </output>\n",
              "      <script src=\"/nbextensions/google.colab/files.js\"></script> "
            ]
          },
          "metadata": {}
        },
        {
          "output_type": "stream",
          "name": "stdout",
          "text": [
            "Saving Northwind.zip to Northwind (1).zip\n"
          ]
        }
      ]
    },
    {
      "cell_type": "code",
      "source": [
        "!unzip Northwind.zip"
      ],
      "metadata": {
        "colab": {
          "base_uri": "https://localhost:8080/"
        },
        "id": "Uvh3FD8iS_0x",
        "outputId": "bb7e7f85-3918-4dba-f5b5-2fe8fac85529"
      },
      "execution_count": 5,
      "outputs": [
        {
          "output_type": "stream",
          "name": "stdout",
          "text": [
            "Archive:  Northwind.zip\n",
            "   creating: Northwind/\n",
            "  inflating: Northwind/orders.csv    \n",
            "  inflating: Northwind/order_details.csv  \n",
            "  inflating: Northwind/products.csv  \n",
            "  inflating: Northwind/suppliers.csv  \n"
          ]
        }
      ]
    },
    {
      "cell_type": "markdown",
      "source": [
        "## Initiate Spark"
      ],
      "metadata": {
        "id": "hyQXQyEfTK-4"
      }
    },
    {
      "cell_type": "code",
      "source": [
        "spark = SparkSession \\\n",
        "    .builder \\\n",
        "    .master(\"local[*]\") \\\n",
        "    .appName(\"test\") \\\n",
        "    .getOrCreate()"
      ],
      "metadata": {
        "id": "Npe523T7TG2_"
      },
      "execution_count": 6,
      "outputs": []
    },
    {
      "cell_type": "markdown",
      "source": [
        "# Dataframe"
      ],
      "metadata": {
        "id": "a_oz_rgsTyfP"
      }
    },
    {
      "cell_type": "markdown",
      "source": [
        "## Read Data"
      ],
      "metadata": {
        "id": "9IKSDXlET1EU"
      }
    },
    {
      "cell_type": "code",
      "source": [
        "from google.colab import drive\n",
        "drive.mount('/content/drive')"
      ],
      "metadata": {
        "colab": {
          "base_uri": "https://localhost:8080/"
        },
        "id": "sjpzY1XqT9kr",
        "outputId": "472ea789-26a5-4128-a616-39c9120cc0bc"
      },
      "execution_count": 7,
      "outputs": [
        {
          "output_type": "stream",
          "name": "stdout",
          "text": [
            "Mounted at /content/drive\n"
          ]
        }
      ]
    },
    {
      "cell_type": "markdown",
      "source": [
        "### Dataset Orders"
      ],
      "metadata": {
        "id": "4tyoYbrJWECF"
      }
    },
    {
      "cell_type": "code",
      "source": [
        "df_products = spark.read. \\\n",
        "  format(\"csv\"). \\\n",
        "  option(\"inferSchema\",\"true\"). \\\n",
        "  option(\"header\",\"true\"). \\\n",
        "  load(\"Northwind/products.csv\")"
      ],
      "metadata": {
        "id": "ilnU2SncTOjl"
      },
      "execution_count": 8,
      "outputs": []
    },
    {
      "cell_type": "code",
      "source": [
        "df_products.show(2)\n",
        "df_products.printSchema()\n",
        "df_products.dtypes"
      ],
      "metadata": {
        "colab": {
          "base_uri": "https://localhost:8080/"
        },
        "id": "iBV_VjasUTKc",
        "outputId": "82fee8a2-0a2f-4af9-b5f1-9119cd03b436"
      },
      "execution_count": 9,
      "outputs": [
        {
          "output_type": "stream",
          "name": "stdout",
          "text": [
            "+----------+------------+-----------+-----------+------------------+----------+--------------+--------------+-------------+------------+\n",
            "|product_id|product_name|supplier_id|category_id| quantity_per_unit|unit_price|units_in_stock|units_on_order|reorder_level|discontinued|\n",
            "+----------+------------+-----------+-----------+------------------+----------+--------------+--------------+-------------+------------+\n",
            "|         1|        Chai|          8|          1|10 boxes x 30 bags|      18.0|            39|             0|           10|           1|\n",
            "|         2|       Chang|          1|          1|24 - 12 oz bottles|      19.0|            17|            40|           25|           1|\n",
            "+----------+------------+-----------+-----------+------------------+----------+--------------+--------------+-------------+------------+\n",
            "only showing top 2 rows\n",
            "\n",
            "root\n",
            " |-- product_id: integer (nullable = true)\n",
            " |-- product_name: string (nullable = true)\n",
            " |-- supplier_id: integer (nullable = true)\n",
            " |-- category_id: integer (nullable = true)\n",
            " |-- quantity_per_unit: string (nullable = true)\n",
            " |-- unit_price: double (nullable = true)\n",
            " |-- units_in_stock: integer (nullable = true)\n",
            " |-- units_on_order: integer (nullable = true)\n",
            " |-- reorder_level: integer (nullable = true)\n",
            " |-- discontinued: integer (nullable = true)\n",
            "\n"
          ]
        },
        {
          "output_type": "execute_result",
          "data": {
            "text/plain": [
              "[('product_id', 'int'),\n",
              " ('product_name', 'string'),\n",
              " ('supplier_id', 'int'),\n",
              " ('category_id', 'int'),\n",
              " ('quantity_per_unit', 'string'),\n",
              " ('unit_price', 'double'),\n",
              " ('units_in_stock', 'int'),\n",
              " ('units_on_order', 'int'),\n",
              " ('reorder_level', 'int'),\n",
              " ('discontinued', 'int')]"
            ]
          },
          "metadata": {},
          "execution_count": 9
        }
      ]
    },
    {
      "cell_type": "code",
      "source": [
        "df_products = df_products \\\n",
        "  .withColumn(\"product_id\" ,\n",
        "              df_products[\"product_id\"]\n",
        "              .cast(StringType()))   \\\n",
        "  .withColumn(\"supplier_id\",\n",
        "              df_products[\"supplier_id\"]\n",
        "              .cast(StringType()))    \\\n",
        "  .withColumn(\"category_id\"  ,\n",
        "              df_products[\"category_id\"]\n",
        "              .cast(StringType())) \\"
      ],
      "metadata": {
        "id": "cDG-C1JNU7Jn"
      },
      "execution_count": 10,
      "outputs": []
    },
    {
      "cell_type": "code",
      "source": [
        "df_products.printSchema()"
      ],
      "metadata": {
        "colab": {
          "base_uri": "https://localhost:8080/"
        },
        "id": "5CyPeu83Vn4e",
        "outputId": "c5873b6e-2828-46be-b3dc-6559b1f1609c"
      },
      "execution_count": 11,
      "outputs": [
        {
          "output_type": "stream",
          "name": "stdout",
          "text": [
            "root\n",
            " |-- product_id: string (nullable = true)\n",
            " |-- product_name: string (nullable = true)\n",
            " |-- supplier_id: string (nullable = true)\n",
            " |-- category_id: string (nullable = true)\n",
            " |-- quantity_per_unit: string (nullable = true)\n",
            " |-- unit_price: double (nullable = true)\n",
            " |-- units_in_stock: integer (nullable = true)\n",
            " |-- units_on_order: integer (nullable = true)\n",
            " |-- reorder_level: integer (nullable = true)\n",
            " |-- discontinued: integer (nullable = true)\n",
            "\n"
          ]
        }
      ]
    },
    {
      "cell_type": "markdown",
      "source": [
        "### Dataset Orders"
      ],
      "metadata": {
        "id": "k-5-u7akWHJ4"
      }
    },
    {
      "cell_type": "code",
      "source": [
        "df_orders = spark.read. \\\n",
        "  format(\"csv\"). \\\n",
        "  option(\"inferSchema\",\"true\"). \\\n",
        "  option(\"header\",\"true\"). \\\n",
        "  load(\"Northwind/orders.csv\")"
      ],
      "metadata": {
        "id": "UkKyE6c4UHoe"
      },
      "execution_count": 12,
      "outputs": []
    },
    {
      "cell_type": "code",
      "source": [
        "df_orders.show(2)\n",
        "df_orders.printSchema()\n",
        "df_orders.dtypes"
      ],
      "metadata": {
        "colab": {
          "base_uri": "https://localhost:8080/"
        },
        "id": "a0XPTik2UShq",
        "outputId": "4823150c-bf8b-4749-808d-e22578c6cafb"
      },
      "execution_count": 13,
      "outputs": [
        {
          "output_type": "stream",
          "name": "stdout",
          "text": [
            "+--------+-----------+-----------+-------------------+-------------------+-------------------+--------+-------+--------------------+------------------+---------+-----------+----------------+------------+\n",
            "|order_id|customer_id|employee_id|         order_date|      required_date|       shipped_date|ship_via|freight|           ship_name|      ship_address|ship_city|ship_region|ship_postal_code|ship_country|\n",
            "+--------+-----------+-----------+-------------------+-------------------+-------------------+--------+-------+--------------------+------------------+---------+-----------+----------------+------------+\n",
            "|   10248|      VINET|          5|1996-07-04 00:00:00|1996-08-01 00:00:00|1996-07-16 00:00:00|       3|  32.38|Vins et alcools C...|59 rue de l'Abbaye|    Reims|       null|           51100|      France|\n",
            "|   10249|      TOMSP|          6|1996-07-05 00:00:00|1996-08-16 00:00:00|1996-07-10 00:00:00|       1|  11.61|  Toms Spezialitäten|     Luisenstr. 48|  Münster|       null|           44087|     Germany|\n",
            "+--------+-----------+-----------+-------------------+-------------------+-------------------+--------+-------+--------------------+------------------+---------+-----------+----------------+------------+\n",
            "only showing top 2 rows\n",
            "\n",
            "root\n",
            " |-- order_id: integer (nullable = true)\n",
            " |-- customer_id: string (nullable = true)\n",
            " |-- employee_id: integer (nullable = true)\n",
            " |-- order_date: timestamp (nullable = true)\n",
            " |-- required_date: timestamp (nullable = true)\n",
            " |-- shipped_date: timestamp (nullable = true)\n",
            " |-- ship_via: integer (nullable = true)\n",
            " |-- freight: double (nullable = true)\n",
            " |-- ship_name: string (nullable = true)\n",
            " |-- ship_address: string (nullable = true)\n",
            " |-- ship_city: string (nullable = true)\n",
            " |-- ship_region: string (nullable = true)\n",
            " |-- ship_postal_code: string (nullable = true)\n",
            " |-- ship_country: string (nullable = true)\n",
            "\n"
          ]
        },
        {
          "output_type": "execute_result",
          "data": {
            "text/plain": [
              "[('order_id', 'int'),\n",
              " ('customer_id', 'string'),\n",
              " ('employee_id', 'int'),\n",
              " ('order_date', 'timestamp'),\n",
              " ('required_date', 'timestamp'),\n",
              " ('shipped_date', 'timestamp'),\n",
              " ('ship_via', 'int'),\n",
              " ('freight', 'double'),\n",
              " ('ship_name', 'string'),\n",
              " ('ship_address', 'string'),\n",
              " ('ship_city', 'string'),\n",
              " ('ship_region', 'string'),\n",
              " ('ship_postal_code', 'string'),\n",
              " ('ship_country', 'string')]"
            ]
          },
          "metadata": {},
          "execution_count": 13
        }
      ]
    },
    {
      "cell_type": "code",
      "source": [
        "df_orders = df_orders \\\n",
        "  .withColumn(\"order_id\" ,\n",
        "              df_orders[\"order_id\"]\n",
        "              .cast(StringType()))   \\\n",
        "  .withColumn(\"employee_id\"  ,\n",
        "              df_orders[\"employee_id\"]\n",
        "              .cast(StringType())) \\"
      ],
      "metadata": {
        "id": "y9p48jmaWh8D"
      },
      "execution_count": 14,
      "outputs": []
    },
    {
      "cell_type": "code",
      "source": [
        "df_orders.printSchema()"
      ],
      "metadata": {
        "colab": {
          "base_uri": "https://localhost:8080/"
        },
        "id": "WBRuMqLDW4NU",
        "outputId": "c8ae1863-687f-459a-f0bd-f83761a43910"
      },
      "execution_count": 15,
      "outputs": [
        {
          "output_type": "stream",
          "name": "stdout",
          "text": [
            "root\n",
            " |-- order_id: string (nullable = true)\n",
            " |-- customer_id: string (nullable = true)\n",
            " |-- employee_id: string (nullable = true)\n",
            " |-- order_date: timestamp (nullable = true)\n",
            " |-- required_date: timestamp (nullable = true)\n",
            " |-- shipped_date: timestamp (nullable = true)\n",
            " |-- ship_via: integer (nullable = true)\n",
            " |-- freight: double (nullable = true)\n",
            " |-- ship_name: string (nullable = true)\n",
            " |-- ship_address: string (nullable = true)\n",
            " |-- ship_city: string (nullable = true)\n",
            " |-- ship_region: string (nullable = true)\n",
            " |-- ship_postal_code: string (nullable = true)\n",
            " |-- ship_country: string (nullable = true)\n",
            "\n"
          ]
        }
      ]
    },
    {
      "cell_type": "markdown",
      "source": [
        "### Dataset Order Details"
      ],
      "metadata": {
        "id": "994ZGPLqXJr1"
      }
    },
    {
      "cell_type": "code",
      "source": [
        "df_order_details = spark.read. \\\n",
        "  format(\"csv\"). \\\n",
        "  option(\"inferSchema\",\"true\"). \\\n",
        "  option(\"header\",\"true\"). \\\n",
        "  load(\"Northwind/order_details.csv\")"
      ],
      "metadata": {
        "id": "7W6bNRQQXDql"
      },
      "execution_count": 16,
      "outputs": []
    },
    {
      "cell_type": "code",
      "source": [
        "df_order_details.show(2)\n",
        "df_order_details.printSchema()\n",
        "df_order_details.dtypes"
      ],
      "metadata": {
        "colab": {
          "base_uri": "https://localhost:8080/"
        },
        "id": "6Ak9ryb-XOGk",
        "outputId": "b97a3ef9-e384-467e-eb65-ad6311a16d45"
      },
      "execution_count": 17,
      "outputs": [
        {
          "output_type": "stream",
          "name": "stdout",
          "text": [
            "+--------+----------+----------+--------+--------+\n",
            "|order_id|product_id|unit_price|quantity|discount|\n",
            "+--------+----------+----------+--------+--------+\n",
            "|   10248|        11|      14.0|      12|     0.0|\n",
            "|   10248|        42|       9.8|      10|     0.0|\n",
            "+--------+----------+----------+--------+--------+\n",
            "only showing top 2 rows\n",
            "\n",
            "root\n",
            " |-- order_id: integer (nullable = true)\n",
            " |-- product_id: integer (nullable = true)\n",
            " |-- unit_price: double (nullable = true)\n",
            " |-- quantity: integer (nullable = true)\n",
            " |-- discount: double (nullable = true)\n",
            "\n"
          ]
        },
        {
          "output_type": "execute_result",
          "data": {
            "text/plain": [
              "[('order_id', 'int'),\n",
              " ('product_id', 'int'),\n",
              " ('unit_price', 'double'),\n",
              " ('quantity', 'int'),\n",
              " ('discount', 'double')]"
            ]
          },
          "metadata": {},
          "execution_count": 17
        }
      ]
    },
    {
      "cell_type": "code",
      "source": [
        "df_order_details = df_order_details \\\n",
        "  .withColumn(\"order_id\" ,\n",
        "              df_order_details[\"order_id\"]\n",
        "              .cast(StringType()))   \\\n",
        "  .withColumn(\"product_id\"  ,\n",
        "              df_order_details[\"product_id\"]\n",
        "              .cast(StringType())) \\"
      ],
      "metadata": {
        "id": "Izuh_iTRXSZ_"
      },
      "execution_count": 18,
      "outputs": []
    },
    {
      "cell_type": "code",
      "source": [
        "df_order_details.printSchema()"
      ],
      "metadata": {
        "colab": {
          "base_uri": "https://localhost:8080/"
        },
        "id": "5_efY1mnXXy0",
        "outputId": "a36143b1-e6aa-4577-bd23-5cd2670ad79b"
      },
      "execution_count": 19,
      "outputs": [
        {
          "output_type": "stream",
          "name": "stdout",
          "text": [
            "root\n",
            " |-- order_id: string (nullable = true)\n",
            " |-- product_id: string (nullable = true)\n",
            " |-- unit_price: double (nullable = true)\n",
            " |-- quantity: integer (nullable = true)\n",
            " |-- discount: double (nullable = true)\n",
            "\n"
          ]
        }
      ]
    },
    {
      "cell_type": "markdown",
      "source": [
        "###Dataset Supplier"
      ],
      "metadata": {
        "id": "xmqjDI8r3QNQ"
      }
    },
    {
      "cell_type": "code",
      "source": [
        "df_suppliers = spark.read. \\\n",
        "  format(\"csv\"). \\\n",
        "  option(\"inferSchema\",\"true\"). \\\n",
        "  option(\"header\",\"true\"). \\\n",
        "  load(\"Northwind/suppliers.csv\")"
      ],
      "metadata": {
        "id": "U5xOBhN23UNx"
      },
      "execution_count": 20,
      "outputs": []
    },
    {
      "cell_type": "code",
      "source": [
        "df_suppliers.show(2)\n",
        "df_suppliers.printSchema()\n",
        "df_suppliers.dtypes"
      ],
      "metadata": {
        "colab": {
          "base_uri": "https://localhost:8080/"
        },
        "id": "eZjai80k3bAe",
        "outputId": "33ea4e1d-509f-459a-bda8-39821c95f2c7"
      },
      "execution_count": 21,
      "outputs": [
        {
          "output_type": "stream",
          "name": "stdout",
          "text": [
            "+-----------+--------------------+----------------+-------------------+--------------+-----------+------+-----------+-------+--------------+----+-----------+\n",
            "|supplier_id|        company_name|    contact_name|      contact_title|       address|       city|region|postal_code|country|         phone| fax|   homepage|\n",
            "+-----------+--------------------+----------------+-------------------+--------------+-----------+------+-----------+-------+--------------+----+-----------+\n",
            "|          1|      Exotic Liquids|Charlotte Cooper| Purchasing Manager|49 Gilbert St.|     London|  null|    EC1 4SD|     UK|(171) 555-2222|null|       null|\n",
            "|          2|New Orleans Cajun...|   Shelley Burke|Order Administrator|P.O. Box 78934|New Orleans|    LA|      70117|    USA|(100) 555-4822|null|#CAJUN.HTM#|\n",
            "+-----------+--------------------+----------------+-------------------+--------------+-----------+------+-----------+-------+--------------+----+-----------+\n",
            "only showing top 2 rows\n",
            "\n",
            "root\n",
            " |-- supplier_id: integer (nullable = true)\n",
            " |-- company_name: string (nullable = true)\n",
            " |-- contact_name: string (nullable = true)\n",
            " |-- contact_title: string (nullable = true)\n",
            " |-- address: string (nullable = true)\n",
            " |-- city: string (nullable = true)\n",
            " |-- region: string (nullable = true)\n",
            " |-- postal_code: string (nullable = true)\n",
            " |-- country: string (nullable = true)\n",
            " |-- phone: string (nullable = true)\n",
            " |-- fax: string (nullable = true)\n",
            " |-- homepage: string (nullable = true)\n",
            "\n"
          ]
        },
        {
          "output_type": "execute_result",
          "data": {
            "text/plain": [
              "[('supplier_id', 'int'),\n",
              " ('company_name', 'string'),\n",
              " ('contact_name', 'string'),\n",
              " ('contact_title', 'string'),\n",
              " ('address', 'string'),\n",
              " ('city', 'string'),\n",
              " ('region', 'string'),\n",
              " ('postal_code', 'string'),\n",
              " ('country', 'string'),\n",
              " ('phone', 'string'),\n",
              " ('fax', 'string'),\n",
              " ('homepage', 'string')]"
            ]
          },
          "metadata": {},
          "execution_count": 21
        }
      ]
    },
    {
      "cell_type": "code",
      "source": [
        "df_suppliers = df_suppliers \\\n",
        "  .withColumn(\"supplier_id\" ,\n",
        "              df_suppliers[\"supplier_id\"]\n",
        "              .cast(StringType()))   \\\n",
        "  "
      ],
      "metadata": {
        "id": "IwO9tdrk3kQL"
      },
      "execution_count": 22,
      "outputs": []
    },
    {
      "cell_type": "markdown",
      "source": [
        "### Create Alias in Suppliers table"
      ],
      "metadata": {
        "id": "N-2V-KTwCJiR"
      }
    },
    {
      "cell_type": "code",
      "source": [
        " df_suppliers2 = df_suppliers.select(col(\"supplier_id\").alias(\"Supplier_id\"), col(\"company_name\").alias(\"Supplier_name\"))\n",
        " df_suppliers2.show()"
      ],
      "metadata": {
        "colab": {
          "base_uri": "https://localhost:8080/"
        },
        "id": "OgJm70snAsx8",
        "outputId": "65360b53-affb-4eef-e2e9-293ae49d56b9"
      },
      "execution_count": 23,
      "outputs": [
        {
          "output_type": "stream",
          "name": "stdout",
          "text": [
            "+-----------+--------------------+\n",
            "|Supplier_id|       Supplier_name|\n",
            "+-----------+--------------------+\n",
            "|          1|      Exotic Liquids|\n",
            "|          2|New Orleans Cajun...|\n",
            "|          3|Grandma Kelly's H...|\n",
            "|          4|       Tokyo Traders|\n",
            "|          5|Cooperativa de Qu...|\n",
            "|          6|            Mayumi's|\n",
            "|          7|       Pavlova, Ltd.|\n",
            "|          8|Specialty Biscuit...|\n",
            "|          9|    PB Knäckebröd AB|\n",
            "|         10|Refrescos America...|\n",
            "|         11|Heli Süßwaren Gmb...|\n",
            "|         12|Plutzer Lebensmit...|\n",
            "|         13|Nord-Ost-Fisch Ha...|\n",
            "|         14|Formaggi Fortini ...|\n",
            "|         15|     Norske Meierier|\n",
            "|         16|   Bigfoot Breweries|\n",
            "|         17|   Svensk Sjöföda AB|\n",
            "|         18|Aux joyeux ecclés...|\n",
            "|         19|New England Seafo...|\n",
            "|         20|        Leka Trading|\n",
            "+-----------+--------------------+\n",
            "only showing top 20 rows\n",
            "\n"
          ]
        }
      ]
    },
    {
      "cell_type": "markdown",
      "source": [
        ""
      ],
      "metadata": {
        "id": "L05WM-n6CGJi"
      }
    },
    {
      "cell_type": "code",
      "source": [
        "df_suppliers2.printSchema()"
      ],
      "metadata": {
        "colab": {
          "base_uri": "https://localhost:8080/"
        },
        "id": "CbQbeAZf4Gic",
        "outputId": "de992ef2-ca8c-4b74-b4ff-74f8a7dca9ac"
      },
      "execution_count": 24,
      "outputs": [
        {
          "output_type": "stream",
          "name": "stdout",
          "text": [
            "root\n",
            " |-- Supplier_id: string (nullable = true)\n",
            " |-- Supplier_name: string (nullable = true)\n",
            "\n"
          ]
        }
      ]
    },
    {
      "cell_type": "markdown",
      "source": [
        "### Join with table Suppliers"
      ],
      "metadata": {
        "id": "KJlgmflbCXax"
      }
    },
    {
      "cell_type": "code",
      "source": [
        "df_denormalized2 = df_orders.join(df_order_details,\"order_id\").join(df_products,\"product_id\").join(df_suppliers2,\"supplier_id\")\n",
        "df_denormalized2.show()"
      ],
      "metadata": {
        "colab": {
          "base_uri": "https://localhost:8080/"
        },
        "id": "0Tr32bgk8ajk",
        "outputId": "0538c54b-c8c4-4ce2-85ce-65a8b40aa320"
      },
      "execution_count": 25,
      "outputs": [
        {
          "output_type": "stream",
          "name": "stdout",
          "text": [
            "+-----------+----------+--------+-----------+-----------+-------------------+-------------------+-------------------+--------+-------+--------------------+--------------------+--------------+-----------+----------------+------------+----------+--------+--------+--------------------+-----------+-----------------+----------+--------------+--------------+-------------+------------+--------------------+\n",
            "|supplier_id|product_id|order_id|customer_id|employee_id|         order_date|      required_date|       shipped_date|ship_via|freight|           ship_name|        ship_address|     ship_city|ship_region|ship_postal_code|ship_country|unit_price|quantity|discount|        product_name|category_id|quantity_per_unit|unit_price|units_in_stock|units_on_order|reorder_level|discontinued|       Supplier_name|\n",
            "+-----------+----------+--------+-----------+-----------+-------------------+-------------------+-------------------+--------+-------+--------------------+--------------------+--------------+-----------+----------------+------------+----------+--------+--------+--------------------+-----------+-----------------+----------+--------------+--------------+-------------+------------+--------------------+\n",
            "|         14|        72|   10248|      VINET|          5|1996-07-04 00:00:00|1996-08-01 00:00:00|1996-07-16 00:00:00|       3|  32.38|Vins et alcools C...|  59 rue de l'Abbaye|         Reims|       null|           51100|      France|      34.8|       5|     0.0|Mozzarella di Gio...|          4| 24 - 200 g pkgs.|      34.8|            14|             0|            0|           0|Formaggi Fortini ...|\n",
            "|         20|        42|   10248|      VINET|          5|1996-07-04 00:00:00|1996-08-01 00:00:00|1996-07-16 00:00:00|       3|  32.38|Vins et alcools C...|  59 rue de l'Abbaye|         Reims|       null|           51100|      France|       9.8|      10|     0.0|Singaporean Hokki...|          5|  32 - 1 kg pkgs.|      14.0|            26|             0|            0|           1|        Leka Trading|\n",
            "|          5|        11|   10248|      VINET|          5|1996-07-04 00:00:00|1996-08-01 00:00:00|1996-07-16 00:00:00|       3|  32.38|Vins et alcools C...|  59 rue de l'Abbaye|         Reims|       null|           51100|      France|      14.0|      12|     0.0|      Queso Cabrales|          4|        1 kg pkg.|      21.0|            22|            30|           30|           0|Cooperativa de Qu...|\n",
            "|         24|        51|   10249|      TOMSP|          6|1996-07-05 00:00:00|1996-08-16 00:00:00|1996-07-10 00:00:00|       1|  11.61|  Toms Spezialitäten|       Luisenstr. 48|       Münster|       null|           44087|     Germany|      42.4|      40|     0.0|Manjimup Dried Ap...|          7| 50 - 300 g pkgs.|      53.0|            20|             0|           10|           0|         G'day, Mate|\n",
            "|          6|        14|   10249|      TOMSP|          6|1996-07-05 00:00:00|1996-08-16 00:00:00|1996-07-10 00:00:00|       1|  11.61|  Toms Spezialitäten|       Luisenstr. 48|       Münster|       null|           44087|     Germany|      18.6|       9|     0.0|                Tofu|          7| 40 - 100 g pkgs.|     23.25|            35|             0|            0|           0|            Mayumi's|\n",
            "|          2|        65|   10250|      HANAR|          4|1996-07-08 00:00:00|1996-08-05 00:00:00|1996-07-12 00:00:00|       2|  65.83|       Hanari Carnes|     Rua do Paço, 67|Rio de Janeiro|         RJ|       05454-876|      Brazil|      16.8|      15|    0.15|Louisiana Fiery H...|          2|32 - 8 oz bottles|     21.05|            76|             0|            0|           0|New Orleans Cajun...|\n",
            "|         24|        51|   10250|      HANAR|          4|1996-07-08 00:00:00|1996-08-05 00:00:00|1996-07-12 00:00:00|       2|  65.83|       Hanari Carnes|     Rua do Paço, 67|Rio de Janeiro|         RJ|       05454-876|      Brazil|      42.4|      35|    0.15|Manjimup Dried Ap...|          7| 50 - 300 g pkgs.|      53.0|            20|             0|           10|           0|         G'day, Mate|\n",
            "|         19|        41|   10250|      HANAR|          4|1996-07-08 00:00:00|1996-08-05 00:00:00|1996-07-12 00:00:00|       2|  65.83|       Hanari Carnes|     Rua do Paço, 67|Rio de Janeiro|         RJ|       05454-876|      Brazil|       7.7|      10|     0.0|Jack's New Englan...|          8|  12 - 12 oz cans|      9.65|            85|             0|           10|           0|New England Seafo...|\n",
            "|          2|        65|   10251|      VICTE|          3|1996-07-08 00:00:00|1996-08-05 00:00:00|1996-07-15 00:00:00|       1|  41.34|Victuailles en stock|  2, rue du Commerce|          Lyon|       null|           69004|      France|      16.8|      20|     0.0|Louisiana Fiery H...|          2|32 - 8 oz bottles|     21.05|            76|             0|            0|           0|New Orleans Cajun...|\n",
            "|         26|        57|   10251|      VICTE|          3|1996-07-08 00:00:00|1996-08-05 00:00:00|1996-07-15 00:00:00|       1|  41.34|Victuailles en stock|  2, rue du Commerce|          Lyon|       null|           69004|      France|      15.6|      15|    0.05|      Ravioli Angelo|          5| 24 - 250 g pkgs.|      19.5|            36|             0|           20|           0|Pasta Buttini s.r.l.|\n",
            "|          9|        22|   10251|      VICTE|          3|1996-07-08 00:00:00|1996-08-05 00:00:00|1996-07-15 00:00:00|       1|  41.34|Victuailles en stock|  2, rue du Commerce|          Lyon|       null|           69004|      France|      16.8|       6|    0.05| Gustaf's Knäckebröd|          5| 24 - 500 g pkgs.|      21.0|           104|             0|           25|           0|    PB Knäckebröd AB|\n",
            "|         28|        60|   10252|      SUPRD|          4|1996-07-09 00:00:00|1996-08-06 00:00:00|1996-07-11 00:00:00|       2|   51.3|    Suprêmes délices|Boulevard Tirou, 255|     Charleroi|       null|          B-6000|     Belgium|      27.2|      40|     0.0|   Camembert Pierrot|          4|15 - 300 g rounds|      34.0|            19|             0|            0|           0|        Gai pâturage|\n",
            "|         15|        33|   10252|      SUPRD|          4|1996-07-09 00:00:00|1996-08-06 00:00:00|1996-07-11 00:00:00|       2|   51.3|    Suprêmes délices|Boulevard Tirou, 255|     Charleroi|       null|          B-6000|     Belgium|       2.0|      25|    0.05|             Geitost|          4|            500 g|       2.5|           112|             0|           20|           0|     Norske Meierier|\n",
            "|          8|        20|   10252|      SUPRD|          4|1996-07-09 00:00:00|1996-08-06 00:00:00|1996-07-11 00:00:00|       2|   51.3|    Suprêmes délices|Boulevard Tirou, 255|     Charleroi|       null|          B-6000|     Belgium|      64.8|      40|    0.05|Sir Rodney's Marm...|          3|    30 gift boxes|      81.0|            40|             0|            0|           0|Specialty Biscuit...|\n",
            "|         23|        49|   10253|      HANAR|          3|1996-07-10 00:00:00|1996-07-24 00:00:00|1996-07-16 00:00:00|       2|  58.17|       Hanari Carnes|     Rua do Paço, 67|Rio de Janeiro|         RJ|       05454-876|      Brazil|      16.0|      40|     0.0|            Maxilaku|          3|  24 - 50 g pkgs.|      20.0|            10|            60|           15|           0|           Karkki Oy|\n",
            "|         18|        39|   10253|      HANAR|          3|1996-07-10 00:00:00|1996-07-24 00:00:00|1996-07-16 00:00:00|       2|  58.17|       Hanari Carnes|     Rua do Paço, 67|Rio de Janeiro|         RJ|       05454-876|      Brazil|      14.4|      42|     0.0|    Chartreuse verte|          1|750 cc per bottle|      18.0|            69|             0|            5|           0|Aux joyeux ecclés...|\n",
            "|         14|        31|   10253|      HANAR|          3|1996-07-10 00:00:00|1996-07-24 00:00:00|1996-07-16 00:00:00|       2|  58.17|       Hanari Carnes|     Rua do Paço, 67|Rio de Janeiro|         RJ|       05454-876|      Brazil|      10.0|      20|     0.0|   Gorgonzola Telino|          4|  12 - 100 g pkgs|      12.5|             0|            70|           20|           0|Formaggi Fortini ...|\n",
            "|          4|        74|   10254|      CHOPS|          5|1996-07-11 00:00:00|1996-08-08 00:00:00|1996-07-23 00:00:00|       2|  22.98|   Chop-suey Chinese|        Hauptstr. 31|          Bern|       null|            3012| Switzerland|       8.0|      21|     0.0|       Longlife Tofu|          7|        5 kg pkg.|      10.0|             4|            20|            5|           0|       Tokyo Traders|\n",
            "|         25|        55|   10254|      CHOPS|          5|1996-07-11 00:00:00|1996-08-08 00:00:00|1996-07-23 00:00:00|       2|  22.98|   Chop-suey Chinese|        Hauptstr. 31|          Bern|       null|            3012| Switzerland|      19.2|      21|    0.15|        Pâté chinois|          6|24 boxes x 2 pies|      24.0|           115|             0|           20|           0|           Ma Maison|\n",
            "|         10|        24|   10254|      CHOPS|          5|1996-07-11 00:00:00|1996-08-08 00:00:00|1996-07-23 00:00:00|       2|  22.98|   Chop-suey Chinese|        Hauptstr. 31|          Bern|       null|            3012| Switzerland|       3.6|      15|    0.15|  Guaraná Fantástica|          1| 12 - 355 ml cans|       4.5|            20|             0|            0|           1|Refrescos America...|\n",
            "+-----------+----------+--------+-----------+-----------+-------------------+-------------------+-------------------+--------+-------+--------------------+--------------------+--------------+-----------+----------------+------------+----------+--------+--------+--------------------+-----------+-----------------+----------+--------------+--------------+-------------+------------+--------------------+\n",
            "only showing top 20 rows\n",
            "\n"
          ]
        }
      ]
    },
    {
      "cell_type": "markdown",
      "source": [
        "# Homework\n",
        "\n",
        "buatlah satu dataframe yang berisikan report Yearly Supplier Net revenue (group by Year, Supplier ID, Supplier Name):\n",
        "\n",
        "Supplier_id\t| Supplier_name\t| Year\t| Net_revenue"
      ],
      "metadata": {
        "id": "aiMyg4W0cihw"
      }
    },
    {
      "cell_type": "code",
      "source": [
        "net_revenue_formula = (1-df_order_details[\"discount\"]) * df_order_details[\"unit_price\"] * df_order_details[\"quantity\"]\n",
        "df_net_revnue_unsorte2 = df_denormalized2.groupBy(\"Supplier_id\",\"Supplier_name\",year(\"order_date\").alias(\"Year\")).agg(round(sum(net_revenue_formula),2).alias(\"Net_revenue\"))\n",
        "df_net_revnue_unsorte2.orderBy(\"supplier_id\",\"Supplier_name\",\"Year\").show(100)"
      ],
      "metadata": {
        "colab": {
          "base_uri": "https://localhost:8080/"
        },
        "id": "KAi_6Xkc-C4q",
        "outputId": "0b84dddb-c444-4637-fd9d-113ef83e7de0"
      },
      "execution_count": 28,
      "outputs": [
        {
          "output_type": "stream",
          "name": "stdout",
          "text": [
            "+-----------+--------------------+----+-----------+\n",
            "|Supplier_id|       Supplier_name|Year|Net_revenue|\n",
            "+-----------+--------------------+----+-----------+\n",
            "|          1|      Exotic Liquids|1996|    3257.96|\n",
            "|          1|      Exotic Liquids|1997|    8762.55|\n",
            "|          1|      Exotic Liquids|1998|    7379.45|\n",
            "|         10|Refrescos America...|1996|     556.74|\n",
            "|         10|Refrescos America...|1997|    1630.13|\n",
            "|         10|Refrescos America...|1998|     2317.5|\n",
            "|         11|Heli Süßwaren Gmb...|1996|    5409.48|\n",
            "|         11|Heli Süßwaren Gmb...|1997|   23109.68|\n",
            "|         11|Heli Süßwaren Gmb...|1998|   10134.27|\n",
            "|         12|Plutzer Lebensmit...|1996|    21285.9|\n",
            "|         12|Plutzer Lebensmit...|1997|   66007.99|\n",
            "|         12|Plutzer Lebensmit...|1998|   58078.51|\n",
            "|         13|Nord-Ost-Fisch Ha...|1996|    2645.46|\n",
            "|         13|Nord-Ost-Fisch Ha...|1997|     6034.4|\n",
            "|         13|Nord-Ost-Fisch Ha...|1998|    4744.34|\n",
            "|         14|Formaggi Fortini ...|1996|   12094.19|\n",
            "|         14|Formaggi Fortini ...|1997|   21572.35|\n",
            "|         14|Formaggi Fortini ...|1998|   14558.63|\n",
            "|         15|     Norske Meierier|1996|    8873.26|\n",
            "|         15|     Norske Meierier|1997|   22287.35|\n",
            "|         15|     Norske Meierier|1998|    11980.9|\n",
            "|         16|   Bigfoot Breweries|1996|     4781.2|\n",
            "|         16|   Bigfoot Breweries|1997|     8291.9|\n",
            "|         16|   Bigfoot Breweries|1998|     9318.1|\n",
            "|         17|   Svensk Sjöföda AB|1996|    3529.76|\n",
            "|         17|   Svensk Sjöföda AB|1997|   11040.85|\n",
            "|         17|   Svensk Sjöföda AB|1998|    5573.45|\n",
            "|         18|Aux joyeux ecclés...|1996|   28432.64|\n",
            "|         18|Aux joyeux ecclés...|1997|   53673.78|\n",
            "|         18|Aux joyeux ecclés...|1998|   71584.85|\n",
            "|         19|New England Seafo...|1996|    3585.65|\n",
            "|         19|New England Seafo...|1997|   14771.98|\n",
            "|         19|New England Seafo...|1998|    8233.35|\n",
            "|          2|New Orleans Cajun...|1996|    6664.52|\n",
            "|          2|New Orleans Cajun...|1997|   17919.69|\n",
            "|          2|New Orleans Cajun...|1998|    6583.78|\n",
            "|         20|        Leka Trading|1996|    7351.33|\n",
            "|         20|        Leka Trading|1997|   23216.04|\n",
            "|         20|        Leka Trading|1998|   11450.28|\n",
            "|         21|          Lyngbysild|1996|    1175.52|\n",
            "|         21|          Lyngbysild|1997|    6337.28|\n",
            "|         21|          Lyngbysild|1998|    2708.38|\n",
            "|         22| Zaanse Snoepfabriek|1996|      97.28|\n",
            "|         22| Zaanse Snoepfabriek|1997|    4212.76|\n",
            "|         22| Zaanse Snoepfabriek|1998|    1016.75|\n",
            "|         23|           Karkki Oy|1996|    4336.74|\n",
            "|         23|           Karkki Oy|1997|   12681.14|\n",
            "|         23|           Karkki Oy|1998|   11424.85|\n",
            "|         24|         G'day, Mate|1996|   11508.76|\n",
            "|         24|         G'day, Mate|1997|   37356.88|\n",
            "|         24|         G'day, Mate|1998|   16761.13|\n",
            "|         25|           Ma Maison|1996|    4818.12|\n",
            "|         25|           Ma Maison|1997|   11017.16|\n",
            "|         25|           Ma Maison|1998|    6319.35|\n",
            "|         26|Pasta Buttini s.r.l.|1996|    4826.46|\n",
            "|         26|Pasta Buttini s.r.l.|1997|    34760.7|\n",
            "|         26|Pasta Buttini s.r.l.|1998|   10667.45|\n",
            "|         27|  Escargots Nouveaux|1996|     1378.0|\n",
            "|         27|  Escargots Nouveaux|1997|    2076.28|\n",
            "|         27|  Escargots Nouveaux|1998|     2427.4|\n",
            "|         28|        Gai pâturage|1996|   18060.36|\n",
            "|         28|        Gai pâturage|1997|    56280.7|\n",
            "|         28|        Gai pâturage|1998|   43640.12|\n",
            "|         29|    Forêts d'érables|1996|    9603.75|\n",
            "|         29|    Forêts d'érables|1997|    30729.8|\n",
            "|         29|    Forêts d'érables|1998|   21254.02|\n",
            "|          3|Grandma Kelly's H...|1996|     5192.0|\n",
            "|          3|Grandma Kelly's H...|1997|    15946.3|\n",
            "|          3|Grandma Kelly's H...|1998|    20815.0|\n",
            "|          4|       Tokyo Traders|1996|    2961.44|\n",
            "|          4|       Tokyo Traders|1997|    17871.5|\n",
            "|          4|       Tokyo Traders|1998|     9693.4|\n",
            "|          5|Cooperativa de Qu...|1996|    1952.64|\n",
            "|          5|Cooperativa de Qu...|1997|   15247.24|\n",
            "|          5|Cooperativa de Qu...|1998|    7959.55|\n",
            "|          6|            Mayumi's|1996|     2118.1|\n",
            "|          6|            Mayumi's|1997|    8522.25|\n",
            "|          6|            Mayumi's|1998|     4096.4|\n",
            "|          7|       Pavlova, Ltd.|1996|   19973.02|\n",
            "|          7|       Pavlova, Ltd.|1997|   54585.68|\n",
            "|          7|       Pavlova, Ltd.|1998|   31901.08|\n",
            "|          8|Specialty Biscuit...|1996|   10761.95|\n",
            "|          8|Specialty Biscuit...|1997|   24618.55|\n",
            "|          8|Specialty Biscuit...|1998|   23651.58|\n",
            "|          9|    PB Knäckebröd AB|1996|     851.76|\n",
            "|          9|    PB Knäckebröd AB|1997|     6522.3|\n",
            "|          9|    PB Knäckebröd AB|1998|     4350.0|\n",
            "+-----------+--------------------+----+-----------+\n",
            "\n"
          ]
        }
      ]
    }
  ]
}